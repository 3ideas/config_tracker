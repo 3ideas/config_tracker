{
 "cells": [
  {
   "cell_type": "code",
   "execution_count": null,
   "id": "9e0c5d3e",
   "metadata": {},
   "outputs": [],
   "source": [
    "# default_exp convert_to_csv"
   ]
  },
  {
   "cell_type": "markdown",
   "id": "446c40b5",
   "metadata": {},
   "source": [
    "# convert_to_csv\n",
    "This is a short script that convert from a sep file to a csv in ISO standard format."
   ]
  },
  {
   "cell_type": "code",
   "execution_count": null,
   "id": "522f0c0c",
   "metadata": {},
   "outputs": [],
   "source": [
    "#hide\n",
    "from nbdev.showdoc import *\n",
    "from fastcore.test import *\n",
    "from nbdev import *"
   ]
  },
  {
   "cell_type": "code",
   "execution_count": null,
   "id": "f81ffa7f",
   "metadata": {},
   "outputs": [],
   "source": [
    "#export\n",
    "#! python\n",
    "import csv\n",
    "import sys\n",
    "\n",
    "#C--------------------------------------------------------------------------\n",
    "#C  Program : covert_to_csv.py\n",
    "#C \n",
    "#C  Converts a legacy format style file to csv. \n",
    "#C  Here for reference only - not part of the working solution\n",
    "#C \n",
    "#C  Copyright: 3ideas.co.uk  \n",
    "#C\n",
    "#C  See https://github.com/3ideas/config_tracker\n",
    "#C--------------------------------------------------------------------------\n",
    "\n",
    "\n",
    "def read_headers(header_file):\n",
    "    \"\"\"Reads the header file which consists of lines starting with the table name followed by a : and the header.\n",
    "    It returns a dictionary of table names and their associated header lines.\n",
    "    \"\"\"\n",
    "    header_lines = {}\n",
    "    with open(header_file, 'r') as f:\n",
    "        for line in f:\n",
    "            table_name, header = parse_header_line(line.rstrip(\"\\n\"))\n",
    "            if table_name is not None:\n",
    "                header_lines[table_name] = header\n",
    "\n",
    "\n",
    "\n",
    "    return header_lines\n",
    "\n",
    "\n",
    "def read__write_from_sep_sv(filename,out_filename,in_sep=None,out_sep = None,encoding=None,chop_end_field=True):\n",
    "    \"\"\"Reads in a sep file and outputs in proper csv\"\"\"\n",
    "    if in_sep is None:\n",
    "        in_sep = '|'\n",
    "    if out_sep is None:\n",
    "        out_sep = ','\n",
    "    \n",
    "    # TODO: see if we can fix or handle encoding errors? Hack is to set to latin-1\n",
    "    if encoding is None:\n",
    "        encoding=\"latin-1\"\n",
    "    line_number = 0\n",
    "   \n",
    "    fp = open(filename, \"r\", encoding=encoding)\n",
    "    \n",
    "    row_list =[]\n",
    "    with open(filename, 'r', encoding=encoding) as fp:\n",
    "        for line in fp:\n",
    "            line_number += 1\n",
    "            line = line.strip()\n",
    "\n",
    "            fields = line.split(in_sep)  # TODO: use csv reader ?     \n",
    "            if chop_end_field:\n",
    "                fields.pop()\n",
    "            if line_number == 1:\n",
    "                number_of_fields = len(fields)\n",
    "            else:\n",
    "                if len(fields) != number_of_fields:\n",
    "                    print(f\"{filename}  inconsistent number of fields on line: {line_number}\",file=sys.stderr)\n",
    "            row_list.append(fields)\n",
    "        \n",
    "    with open(out_filename,'w',encoding=encoding) as fo:\n",
    "        writer = csv.writer(fo,quoting=csv.QUOTE_MINIMAL,delimiter=out_sep)\n",
    "        writer.writerows(row_list)\n",
    "\n"
   ]
  },
  {
   "cell_type": "code",
   "execution_count": null,
   "id": "d1d35d67",
   "metadata": {},
   "outputs": [],
   "source": [
    "#export\n",
    "try: from nbdev.imports import IN_NOTEBOOK\n",
    "except: IN_NOTEBOOK=False\n",
    "    \n",
    "if __name__ == \"__main__\" and not IN_NOTEBOOK:\n",
    "    import argparse\n",
    "    import os\n",
    "    import sys\n",
    "\n",
    "    ap = argparse.ArgumentParser()\n",
    "    ap.add_argument(\"-f\", \"--file\", required=True,\n",
    "                help=\"file to be converted\")\n",
    "    ap.add_argument(\"-o\", \"--output\", required=False,default='',\n",
    "                help=\"output filename\")\n",
    "    ap.add_argument(\"-e\", \"--encoding\", required=False,default=None,\n",
    "                help=\"file encoding, defaults to latin-1\")\n",
    "    args = vars(ap.parse_args())\n",
    "\n",
    "    filename = args[\"file\"]\n",
    "    output_filename = args['output']\n",
    "    encoding = args['encoding']\n",
    "    \n",
    "    # Stip the suffex of the filename to get the table_name\n",
    "    base=os.path.basename(filename)\n",
    "    table_name = os.path.splitext(base)[0]\n",
    "    \n",
    "    if output_filename == '':\n",
    "        output_filename = table_name + '.csv'\n",
    "    read__write_from_sep_sv(filename,output_filename,encoding)"
   ]
  },
  {
   "cell_type": "code",
   "execution_count": null,
   "id": "9ce6ce94",
   "metadata": {},
   "outputs": [],
   "source": [
    "#hide\n",
    "\n",
    "filename = '/Users/bt/localdev/config_tracker/scripts/ACTION_APPEARANCES.hdr'\n",
    "filename_output = 'test/ACTION_APPEARANCES.hdr'\n",
    "\n",
    "read__write_from_sep_sv(filename,filename_output)"
   ]
  },
  {
   "cell_type": "code",
   "execution_count": null,
   "id": "54f15153",
   "metadata": {},
   "outputs": [
    {
     "name": "stdout",
     "output_type": "stream",
     "text": [
      "Converted 00_csv_header_restore.ipynb.\n",
      "Converted 01_convert_to_csv.ipynb.\n",
      "Converted index.ipynb.\n"
     ]
    }
   ],
   "source": [
    "#hide\n",
    "from nbdev.export import notebook2script; notebook2script()"
   ]
  },
  {
   "cell_type": "code",
   "execution_count": null,
   "id": "797136ab",
   "metadata": {},
   "outputs": [],
   "source": [
    "!cp config_tracker/convert_to_csv.py scripts/\n",
    "!chmod +x scripts/migration/convert_to_csv.py"
   ]
  },
  {
   "cell_type": "code",
   "execution_count": null,
   "id": "e9f3f30b",
   "metadata": {},
   "outputs": [],
   "source": []
  }
 ],
 "metadata": {
  "kernelspec": {
   "display_name": "Python 3 (ipykernel)",
   "language": "python",
   "name": "python3"
  }
 },
 "nbformat": 4,
 "nbformat_minor": 5
}
