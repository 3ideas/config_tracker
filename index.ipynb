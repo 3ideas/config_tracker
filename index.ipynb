{
 "cells": [
  {
   "cell_type": "markdown",
   "metadata": {},
   "source": [
    "# config_tracker\n",
    "\n",
    "> This is a utiltiy to help track configuration changes in database tables and files. It can track changes in one system or accross many systems. It is currently aimed at a certain ADMS, but can easily be adapted for other uses."
   ]
  },
  {
   "cell_type": "markdown",
   "metadata": {},
   "source": [
    "This is designed for system managers/maintainers to see a history of changes made to a systems configuration. It provides reports that enable you to see where changes have been made, when the changes were done and what the changes were. It can also compare tracked items between systems. \n",
    "\n",
    "The scripts are all currently been designed to run on linux systems, the reports are output as web pages.\n",
    "\n",
    "The system to track config changes comes in three parts\n",
    "\n",
    "- A script to gather the tracked items on a daily bases. (or any other time period).\n",
    "- A repository to hold the tracked items\n",
    "- A set of reports that can be run against the repository to see the changes that have been made.\n",
    "\n",
    "It also has a set of scripts aimed at a specific user, for transfering over from their existing tracking system. These may be useful to anyone doing something similar. \n",
    "\n",
    "\n",
    "## Install\n",
    "\n",
    "Copy the scripts to system (usr/local/bin ?) and ensure they are in your path. \n",
    "\n",
    "\n",
    "\n",
    "\n",
    "## How to use\n",
    "\n",
    "Add the scipts someplace in you path.\n",
    "\n",
    "Decide which system will hold the 'master' copy of the repository, this should be the system where reports are run against as only this system needs to hold all the data from any systems they are gathering information from.\n",
    "\n",
    "Initialise the repostitory on this system, this can be done \n",
    "\n",
    "Identify the location of where the repository should be held.\n",
    "\n",
    "\n",
    "\n",
    "## Dependencies\n",
    "\n",
    "The system requires python >= 2.6 and git.\n",
    "\n",
    "It also requires utilies to generate diff reports in html format. Currently it uses \n",
    "\n",
    "- [diff2html](https://github.com/rtfpessoa/diff2html)\n",
    "- [daff](https://github.com/paulfitz/daff)\n",
    "\n",
    "See the development system for notes on how to build these.\n",
    "\n",
    "## Support\n",
    "\n",
    "Need help? Please [open an issue](https://github.com/3ideas/config_tracker/issues/new) for support.\n",
    "\n",
    "\n",
    "## Development and Contributions\n",
    "\n",
    "See [development guide](BUILD.md)\n",
    "\n",
    "\n",
    "## License\n",
    "\n",
    "Copyright 2021-present Bill Traill 3ideas.co.uk. Released under the terms of the MIT license.\n",
    "\n",
    "If you're using the library in a commercial enviroment or product, please consider sponsoring its development or paying for maintenace of it. Contact bill@3ideas.co.uk \n"
   ]
  }
 ],
 "metadata": {
  "kernelspec": {
   "display_name": "Python 3 (ipykernel)",
   "language": "python",
   "name": "python3"
  }
 },
 "nbformat": 4,
 "nbformat_minor": 2
}
