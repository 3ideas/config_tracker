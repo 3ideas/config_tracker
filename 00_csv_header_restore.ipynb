{
 "cells": [
  {
   "cell_type": "code",
   "execution_count": null,
   "metadata": {},
   "outputs": [],
   "source": [
    "# default_exp csv_header_restore"
   ]
  },
  {
   "cell_type": "markdown",
   "metadata": {},
   "source": [
    "# csv_header_restore\n",
    "\n",
    "> This is a short script that tries to restore the header in a file to the start of the file.\n",
    "\n",
    "It is used for legacy files where the header got moved by applying sort to the file.\n",
    "\n",
    "It requires 2 files, 1 a set of headers, and 2 the file to reposition the header in.\n",
    "\n",
    "\n",
    "\n",
    "\n"
   ]
  },
  {
   "cell_type": "code",
   "execution_count": null,
   "metadata": {},
   "outputs": [],
   "source": [
    "#hide\n",
    "from nbdev.showdoc import *\n",
    "from fastcore.test import *\n",
    "from nbdev import *"
   ]
  },
  {
   "cell_type": "code",
   "execution_count": null,
   "metadata": {},
   "outputs": [],
   "source": [
    "#export\n",
    "#! python\n",
    "import re\n",
    "\n",
    "def read_headers(header_file):\n",
    "    \"\"\"Reads the header file which consists of lines starting with the table name followed by a : and the header.\n",
    "    It returns a dictionary of table names and their associated header lines.\n",
    "    \"\"\"\n",
    "    header_lines = {}\n",
    "    with open(header_file, 'r') as f:\n",
    "        for line in f:\n",
    "            table_name, header = parse_header_line(line.rstrip(\"\\n\"))\n",
    "            if table_name is not None:\n",
    "                header_lines[table_name] = header\n",
    "\n",
    "\n",
    "\n",
    "    return header_lines\n",
    "\n",
    "def parse_header_line(line):\n",
    "    m = re.match('^([^:]+):', line)\n",
    "    if m:\n",
    "        table_name = m.group(1)\n",
    "        line = line[m.end():]\n",
    "        return table_name,line\n",
    "    return None,None\n",
    "\n",
    "def restore_header(filename,output_filename,header,encoding =\"latin-1\"): \n",
    "    with open(filename, 'r',encoding=encoding) as f:\n",
    "        with open(output_filename, 'w',encoding=encoding) as out:\n",
    "            out.write(header+'\\n')\n",
    "            for line in f:\n",
    "                line = line.rstrip('\\n')\n",
    "                if line == header:\n",
    "                    continue\n",
    "                out.write(line+'\\n')\n",
    "\n",
    "        \n",
    "\n",
    "    "
   ]
  },
  {
   "cell_type": "code",
   "execution_count": null,
   "metadata": {},
   "outputs": [],
   "source": [
    "#export\n",
    "try: from nbdev.imports import IN_NOTEBOOK\n",
    "except: IN_NOTEBOOK=False\n",
    "    \n",
    "if __name__ == \"__main__\" and not IN_NOTEBOOK:\n",
    "    import argparse\n",
    "    import os\n",
    "    import sys\n",
    "\n",
    "    ap = argparse.ArgumentParser()\n",
    "    ap.add_argument(\"-n\", \"--header\", required=True, help=\"headers file for restore\")\n",
    "    ap.add_argument(\"-f\", \"--file\", required=True,\n",
    "                help=\"file to be converted\")\n",
    "    ap.add_argument(\"-o\", \"--output\", required=False,default='',\n",
    "                help=\"output filename\")\n",
    "    args = vars(ap.parse_args())\n",
    "\n",
    "    filename = args[\"file\"]\n",
    "    headerfile = args[\"header\"]\n",
    "    output_filename = args['output']\n",
    "    \n",
    "    # Stip the suffex of the filename to get the table_name\n",
    "    base=os.path.basename(filename)\n",
    "    table_name = os.path.splitext(base)[0]\n",
    "    \n",
    "    if output_filename == '':\n",
    "        output_filename = table_name + '.hdr'\n",
    "    \n",
    "    headers = read_headers(headerfile)\n",
    "    if table_name in headers:\n",
    "        restore_header(filename,output_filename,headers[table_name])\n",
    "    else:\n",
    "        print(f\"Skipping file:{filename}  - no associated header found\", file=sys.stderr)    "
   ]
  },
  {
   "cell_type": "code",
   "execution_count": null,
   "metadata": {},
   "outputs": [],
   "source": [
    "#hide\n",
    "table_name,line = parse_header_line('table_name:anything else is untouched')\n",
    "\n",
    "\n",
    "test_eq(table_name,'table_name')\n",
    "test_eq(line,'anything else is untouched')\n",
    "\n",
    "headers = read_headers('headers.txt')\n",
    "test_eq(len(headers),67)\n",
    "test_eq(headers['COMMAND_PROFILE'],'COMMAND_PROFILE|COMMAND_NAME|PRIVILEGE|STATUS|')"
   ]
  },
  {
   "cell_type": "code",
   "execution_count": null,
   "metadata": {},
   "outputs": [
    {
     "name": "stdout",
     "output_type": "stream",
     "text": [
      "Converted 00_csv_header_restore.ipynb.\n",
      "Converted index.ipynb.\n"
     ]
    }
   ],
   "source": [
    "#hide\n",
    "from nbdev.export import notebook2script; notebook2script()"
   ]
  },
  {
   "cell_type": "code",
   "execution_count": null,
   "metadata": {},
   "outputs": [],
   "source": [
    "!cp config_tracker/csv_header_restore.py scripts/\n",
    "!chmod +x scripts/csv_header_restore.py"
   ]
  },
  {
   "cell_type": "code",
   "execution_count": null,
   "metadata": {},
   "outputs": [],
   "source": []
  },
  {
   "cell_type": "code",
   "execution_count": null,
   "metadata": {},
   "outputs": [],
   "source": []
  }
 ],
 "metadata": {
  "kernelspec": {
   "display_name": "Python 3 (ipykernel)",
   "language": "python",
   "name": "python3"
  }
 },
 "nbformat": 4,
 "nbformat_minor": 2
}
